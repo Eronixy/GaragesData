{
 "cells": [
  {
   "cell_type": "code",
   "execution_count": 1,
   "id": "4d0e5375",
   "metadata": {},
   "outputs": [],
   "source": [
    "!pip install pandas --quiet\n",
    "!pip install numpy --quiet\n",
    "!pip install matplotlib --quiet\n",
    "!pip install seaborn --quiet\n",
    "!pip install geopy --quiet\n",
    "!pip install XlsxWriter --quiet"
   ]
  },
  {
   "cell_type": "code",
   "execution_count": 2,
   "id": "ba5fd126",
   "metadata": {},
   "outputs": [],
   "source": [
    "import pandas as pd\n",
    "import numpy as np\n",
    "import seaborn\n",
    "import matplotlib.pyplot as pt\n",
    "from geopy.geocoders import Nominatim\n",
    "import re\n",
    "import json\n",
    "import xlsxwriter\n",
    "import time\n",
    "\n",
    "pt.style.use('Solarize_Light2')\n",
    "\n",
    "%matplotlib inline"
   ]
  },
  {
   "cell_type": "code",
   "execution_count": 3,
   "id": "f53714d8",
   "metadata": {},
   "outputs": [],
   "source": [
    "df = pd.read_csv('YellowData.csv', index_col=False)"
   ]
  },
  {
   "cell_type": "code",
   "execution_count": 4,
   "id": "990abcbe",
   "metadata": {},
   "outputs": [
    {
     "name": "stdout",
     "output_type": "stream",
     "text": [
      "<class 'pandas.core.frame.DataFrame'>\n",
      "RangeIndex: 4424 entries, 0 to 4423\n",
      "Data columns (total 14 columns):\n",
      " #   Column           Non-Null Count  Dtype  \n",
      "---  ------           --------------  -----  \n",
      " 0   address          4421 non-null   object \n",
      " 1   businessname     1076 non-null   object \n",
      " 2   email            635 non-null    object \n",
      " 3   landline         3545 non-null   object \n",
      " 4   latest_review    252 non-null    object \n",
      " 5   mobile           602 non-null    object \n",
      " 6   operating_hours  0 non-null      float64\n",
      " 7   ratings          4421 non-null   object \n",
      " 8   social_media     156 non-null    object \n",
      " 9   stars            257 non-null    float64\n",
      " 10  tradename        4421 non-null   object \n",
      " 11  type             4421 non-null   object \n",
      " 12  url              4424 non-null   object \n",
      " 13  website          317 non-null    object \n",
      "dtypes: float64(2), object(12)\n",
      "memory usage: 484.0+ KB\n"
     ]
    }
   ],
   "source": [
    "df.info()"
   ]
  },
  {
   "cell_type": "code",
   "execution_count": 5,
   "id": "10e7e9a7",
   "metadata": {},
   "outputs": [
    {
     "data": {
      "text/plain": [
       "(4421, 14)"
      ]
     },
     "execution_count": 5,
     "metadata": {},
     "output_type": "execute_result"
    }
   ],
   "source": [
    "df = df.dropna(subset=['tradename', 'address', 'type'])\n",
    "\n",
    "df.shape"
   ]
  },
  {
   "cell_type": "code",
   "execution_count": 6,
   "id": "2a3e629d",
   "metadata": {},
   "outputs": [
    {
     "data": {
      "text/plain": [
       "(4420, 14)"
      ]
     },
     "execution_count": 6,
     "metadata": {},
     "output_type": "execute_result"
    }
   ],
   "source": [
    "df = df.drop_duplicates(subset=['tradename', 'address', 'type'])\n",
    "\n",
    "df.shape"
   ]
  },
  {
   "cell_type": "code",
   "execution_count": 7,
   "id": "da9668d4",
   "metadata": {},
   "outputs": [
    {
     "data": {
      "text/plain": [
       "(4420, 14)"
      ]
     },
     "execution_count": 7,
     "metadata": {},
     "output_type": "execute_result"
    }
   ],
   "source": [
    "filtered_categories = ['Machine Shops', 'Vulcanizing',\n",
    "       'Electric Equipment - Service and Repairing',\n",
    "       'Car Air Conditioning Service',\n",
    "       'Refrigeration and Air conditioning Supply',\n",
    "       'Motorcycle and Scooter Parts', 'Automobile Parts and Supplies',\n",
    "       'Repair Shop', 'Automotive Repair and Maintenance',\n",
    "       'Vehicle Armoring', 'Car Wash', 'Material Handling Equipment',\n",
    "       'Body Repair and Painting', 'Tire Dealers and Distributors',\n",
    "       'Calibration Service - Electrical and Electronics',\n",
    "       'Car Detailing', 'Diesel Service', 'Repair Motors Shop',\n",
    "       'Tire Supply', 'Vehicle Dealers', 'Clutch and Brake', 'Brakes',\n",
    "       'Turbochargers', 'Steel Fabricators',\n",
    "       'Automobile Customization and Restoration',\n",
    "       'Automotive Parts and Accessories', 'Automobile Assemblers',\n",
    "       'Brakes-Lining', 'Electronics Consultants',\n",
    "       'Refrigerators and Freezers', 'Metal Parts-Fabricators',\n",
    "       'Air Conditioning Equipment - Parts and Service',\n",
    "       'Automobile Electrical Service', 'Air Conditioning',\n",
    "       'Bus Air Conditioning Equipment and Servicing',\n",
    "       'Truck - Body Builders', 'Electric Motors-Supplies and Parts',\n",
    "       'Motorworks', 'Service/Repairs', 'Bearings',\n",
    "       'Lubricating Devices and Equipment', 'Diesel Parts',\n",
    "       'Electric Supplies', 'Tractor Equipment and Parts',\n",
    "       'Engines - Rebuilding and Exchanging', 'Laboratory Equipment',\n",
    "       'Auto Supply', 'Calibration Services-Industrial',\n",
    "       'Automotive Maintenance - Supplies', 'Armored Vehicle',\n",
    "       'Automotive Assembly', 'Tire Servicing Equipment and Supplies',\n",
    "       'Brake Shoe Bonding', 'Oils-Lubricating', 'Adhesives and Glues',\n",
    "       'Tire Retreading and Repair', 'Industrial Equipment and Supplies',\n",
    "       'Feeds', 'Truck Dealers', 'Blasting Contractors',\n",
    "       'Diesel Fuel Injection Equipment', 'Construction',\n",
    "       'Electronics Service and Repair', 'Truck Dealers - Used',\n",
    "       'Metal Fabrication', 'Vehicle Repair and Maintenance',\n",
    "       'Machineries and Equipment Supplies', 'Exporters',\n",
    "       'Automotive Glass', 'Tools and Hand Tools',\n",
    "       'Electronic Equipment and Supplies', 'Engineering Works',\n",
    "       'Steel Products', 'Plating Services', 'Saws',\n",
    "       'Spray Painting and Finishing', 'Computer Services',\n",
    "       'Automotive Batteries', 'Fire Trucks', 'Bus Lines',\n",
    "       'Packing Materials - Mechanical', 'Radiators - Motor Vehicles',\n",
    "       'Tint', 'Heavy Equipment', 'Towing Service',\n",
    "       'Advertising Services', 'Engines', 'Hardware',\n",
    "       'Buses - Body Builders', 'Automobile Dealers - Used Cars',\n",
    "       'Trucking', 'Appliances Household-Refinishing',\n",
    "       'Air Conditioning Contractors', 'Electrical Substations',\n",
    "       'Importers and Exporters', 'Schools-Technical and Trade', 'Metals',\n",
    "       'Contractors - Electrical', 'Metal Heat Treating',\n",
    "       'General Contractor', 'Video Coverage',\n",
    "       'Jeepney Parts and Supplies', 'Trucks', 'Motorcycles and Scooters',\n",
    "       'Business Services', 'Lubricants',\n",
    "       'Food Processing Equipment and Supplies', 'Banks',\n",
    "       'Educational Services', 'Machine Tools', 'Well Drilling',\n",
    "       'Printers', 'Engine Parts', 'Calibration and Metrology',\n",
    "       'Automotive Racing Equipment',\n",
    "       'Medical Equipment-Service/Maintenance', 'Conveyors',\n",
    "       'Rubber Products', 'Trading', 'General Merchandise',\n",
    "       'Electrical Appliances', 'Scientific Apparatus and Instruments',\n",
    "       'Aluminum', 'Elevators', 'Plumbing Fixtures and Supplies',\n",
    "       'Retailer/Wholesaler', 'Printing Equipment and Supplies',\n",
    "       'Buses - Charter and Rental', 'Forklift',\n",
    "       'Car Seat Covers and Upholstery',\n",
    "       'Electronic Equipment and Supplies-Repairing', 'Gasoline Stations',\n",
    "       'Household Appliances', 'Engineers-Industrial',\n",
    "       'Truck Equipment and Parts', 'Mufflers and Exhaust Systems',\n",
    "       'Car Rental', 'Model Making', 'Information Technology',\n",
    "       'Office Furniture and Equipment', 'Service Stations',\n",
    "       'Recapping Company', 'Television and Radio Dealers',\n",
    "       'Agricultural Equipment and Supplies',\n",
    "       'Hose Couplings and Fittings',\n",
    "       'Safes and Vaults-Opening and Repairing', 'Safes and Vaults',\n",
    "       'Boat Builders', 'Steelworks', 'Communications Equipment',\n",
    "       'Roofing and Siding Panels', 'Semiconductor Supplies',\n",
    "       'Car Suspension', 'Electrical Appliances-Repairing and Parts',\n",
    "       'Bicycle Shops', 'Car Audio', 'Gaskets and Packings',\n",
    "       'Nuts and Bolts', 'Tractors', 'Machining Equipment', 'Retail',\n",
    "       'Pump Services', 'Tire Manufacturing', 'Foundry',\n",
    "       'Filters-Air and Gas', 'Restaurants, Cafes and Bars',\n",
    "       'Heating, Ventilating and Air Conditioning (HVAC)', 'O-Rings',\n",
    "       'Can Sealing Equipment', 'Sugar Brokers and Wholesalers', 'Valves',\n",
    "       'Hydraulic Equipment and Supplies', 'Copier',\n",
    "       'Diesel Parts-Industrial', 'Gears and Gear Cutting',\n",
    "       'Rust Proofing', 'Surplus and Salvage Merchandise', 'Batteries',\n",
    "       'Uninterruptible Power Supply (UPS)']\n",
    "\n",
    "df = df[df['type'].isin(filtered_categories)]\n",
    "\n",
    "df.shape"
   ]
  },
  {
   "cell_type": "code",
   "execution_count": 8,
   "id": "bdc92d18",
   "metadata": {},
   "outputs": [
    {
     "data": {
      "text/plain": [
       "(4359, 14)"
      ]
     },
     "execution_count": 8,
     "metadata": {},
     "output_type": "execute_result"
    }
   ],
   "source": [
    "remove = ['Rapide', 'Mechanigo', 'Rapidé', 'Gulong']\n",
    "\n",
    "remove_pattern = '|'.join([re.escape(rm) for rm in remove])\n",
    "\n",
    "df = df[~df['tradename'].str.contains(remove_pattern, na=False, case=False)]\n",
    "\n",
    "df.shape"
   ]
  },
  {
   "cell_type": "code",
   "execution_count": 9,
   "id": "db561e47",
   "metadata": {},
   "outputs": [],
   "source": [
    "df = df.reindex(columns=['tradename', 'businessname', 'type', 'address', 'ratings', 'stars', 'latest_review',\n",
    "       'mobile', 'landline', 'url', 'social_media', 'website'])"
   ]
  },
  {
   "cell_type": "code",
   "execution_count": 10,
   "id": "4fcc484a",
   "metadata": {},
   "outputs": [],
   "source": [
    "df['ratings'] = df['ratings'].replace(\"No Ratings\", np.nan)"
   ]
  },
  {
   "cell_type": "code",
   "execution_count": 11,
   "id": "c22dfb4e",
   "metadata": {},
   "outputs": [],
   "source": [
    "df = df.sort_values(by=['ratings', 'stars', 'latest_review'], ascending=[False, False, False])"
   ]
  },
  {
   "cell_type": "code",
   "execution_count": 12,
   "id": "ebe90d71",
   "metadata": {},
   "outputs": [
    {
     "data": {
      "text/plain": [
       "(3211, 12)"
      ]
     },
     "execution_count": 12,
     "metadata": {},
     "output_type": "execute_result"
    }
   ],
   "source": [
    "locations = ['Manila', 'Batangas', 'Laguna', 'Cavite', 'Rizal', 'Bulacan', 'Mandaluyong', 'Marikina', 'Pasig', 'Quezon City', 'San Juan', 'Caloocan', 'Malabon', 'Navotas', 'Valenzuela', 'Makati', 'Muntinlupa', 'Las Pinas', 'Paranaque', 'Pasay', 'Pateros', 'Taguig']\n",
    "\n",
    "location_pattern = '|'.join([re.escape(loc) for loc in locations])\n",
    "\n",
    "df = df[df['address'].str.contains(location_pattern, na=False, case=False)]\n",
    "\n",
    "df.shape"
   ]
  },
  {
   "cell_type": "code",
   "execution_count": 13,
   "id": "171e2023",
   "metadata": {},
   "outputs": [],
   "source": [
    "df.to_csv('YellowPagesGaragesMaster.csv', index=False)"
   ]
  },
  {
   "cell_type": "code",
   "execution_count": 14,
   "id": "78688b90",
   "metadata": {},
   "outputs": [
    {
     "data": {
      "text/plain": [
       "(3211, 12)"
      ]
     },
     "execution_count": 14,
     "metadata": {},
     "output_type": "execute_result"
    }
   ],
   "source": [
    "locations = ['Batangas', 'Laguna', 'Cavite', 'Rizal', 'Bulacan', 'Mandaluyong', 'Marikina', 'Pasig', 'Quezon City', 'San Juan', 'Caloocan', 'Malabon', 'Navotas', 'Valenzuela', 'Makati', 'Muntinlupa', 'Las Pinas', 'Paranaque', 'Pasay', 'Pateros', 'Taguig']\n",
    "\n",
    "location_dfs = {}\n",
    "location_dfs['Manila'] = df[df['address'].apply(lambda x: 'city of manila' in x.lower())]\n",
    "\n",
    "for location in locations:\n",
    "    location_dfs[location] = df[df['address'].apply(\n",
    "        lambda x: location.lower() in x.lower()\n",
    "    )]\n",
    "    \n",
    "df.shape"
   ]
  },
  {
   "cell_type": "code",
   "execution_count": 15,
   "id": "0f0ad40b",
   "metadata": {},
   "outputs": [
    {
     "name": "stdout",
     "output_type": "stream",
     "text": [
      "Total count: 3321\n"
     ]
    },
    {
     "data": {
      "image/png": "[encoded data removed]",
      "text/plain": [
       "<Figure size 800x1000 with 1 Axes>"
      ]
     },
     "metadata": {},
     "output_type": "display_data"
    }
   ],
   "source": [
    "import matplotlib.pyplot as plt\n",
    "import seaborn as sns\n",
    "\n",
    "location_lengths = {location: len(location_dfs[location]) for location in locations}\n",
    "location_lengths['Manila'] = len(location_dfs['Manila'])\n",
    "\n",
    "sorted_location_lengths = dict(sorted(location_lengths.items(), key=lambda x: x[1], reverse=True))\n",
    "\n",
    "total_count = sum(sorted_location_lengths.values())\n",
    "\n",
    "plt.style.use('ggplot')\n",
    "plt.figure(figsize=(8, 10))\n",
    "\n",
    "palette = sns.color_palette(\"husl\", len(sorted_location_lengths))\n",
    "\n",
    "ax = sns.barplot(x=list(sorted_location_lengths.values()), \n",
    "                 y=list(sorted_location_lengths.keys()), \n",
    "                 hue=list(sorted_location_lengths.keys()),\n",
    "                 palette=palette, \n",
    "                 dodge=False, \n",
    "                 legend=False)\n",
    "\n",
    "plt.title('Number of Entries for Each Location')\n",
    "plt.xlabel('Number of Entries')\n",
    "plt.ylabel('Location')\n",
    "\n",
    "for i, value in enumerate(sorted_location_lengths.values()):\n",
    "    ax.text(value + 0.5, i, str(value), color='black', va='center')\n",
    "\n",
    "print(f\"Total count: {total_count}\")\n",
    "\n",
    "plt.show()"
   ]
  },
  {
   "cell_type": "code",
   "execution_count": 16,
   "id": "c6b59c6e",
   "metadata": {},
   "outputs": [
    {
     "name": "stdout",
     "output_type": "stream",
     "text": [
      "Saved Manila to /home/eron/Notebooks/Cleaner/Google/YellowPagesGaragesManila.csv\n",
      "Saved Batangas to /home/eron/Notebooks/Cleaner/Google/YellowPagesGaragesBatangas.csv\n",
      "Saved Laguna to /home/eron/Notebooks/Cleaner/Google/YellowPagesGaragesLaguna.csv\n",
      "Saved Cavite to /home/eron/Notebooks/Cleaner/Google/YellowPagesGaragesCavite.csv\n",
      "Saved Rizal to /home/eron/Notebooks/Cleaner/Google/YellowPagesGaragesRizal.csv\n",
      "Saved Bulacan to /home/eron/Notebooks/Cleaner/Google/YellowPagesGaragesBulacan.csv\n",
      "Saved Mandaluyong to /home/eron/Notebooks/Cleaner/Google/YellowPagesGaragesMandaluyong.csv\n",
      "Saved Marikina to /home/eron/Notebooks/Cleaner/Google/YellowPagesGaragesMarikina.csv\n",
      "Saved Pasig to /home/eron/Notebooks/Cleaner/Google/YellowPagesGaragesPasig.csv\n",
      "Saved Quezon City to /home/eron/Notebooks/Cleaner/Google/YellowPagesGaragesQuezonCity.csv\n",
      "Saved San Juan to /home/eron/Notebooks/Cleaner/Google/YellowPagesGaragesSanJuan.csv\n",
      "Saved Caloocan to /home/eron/Notebooks/Cleaner/Google/YellowPagesGaragesCaloocan.csv\n",
      "Saved Malabon to /home/eron/Notebooks/Cleaner/Google/YellowPagesGaragesMalabon.csv\n",
      "Saved Navotas to /home/eron/Notebooks/Cleaner/Google/YellowPagesGaragesNavotas.csv\n",
      "Saved Valenzuela to /home/eron/Notebooks/Cleaner/Google/YellowPagesGaragesValenzuela.csv\n",
      "Saved Makati to /home/eron/Notebooks/Cleaner/Google/YellowPagesGaragesMakati.csv\n",
      "Saved Muntinlupa to /home/eron/Notebooks/Cleaner/Google/YellowPagesGaragesMuntinlupa.csv\n",
      "Saved Las Pinas to /home/eron/Notebooks/Cleaner/Google/YellowPagesGaragesLasPinas.csv\n",
      "Saved Paranaque to /home/eron/Notebooks/Cleaner/Google/YellowPagesGaragesParanaque.csv\n",
      "Saved Pasay to /home/eron/Notebooks/Cleaner/Google/YellowPagesGaragesPasay.csv\n",
      "Saved Pateros to /home/eron/Notebooks/Cleaner/Google/YellowPagesGaragesPateros.csv\n",
      "Saved Taguig to /home/eron/Notebooks/Cleaner/Google/YellowPagesGaragesTaguig.csv\n"
     ]
    }
   ],
   "source": [
    "import os\n",
    "\n",
    "folder_path = os.path.join(os.getcwd(), 'Google')\n",
    "\n",
    "if not os.path.exists(folder_path):\n",
    "    os.makedirs(folder_path)\n",
    "\n",
    "for location, df_location in location_dfs.items():\n",
    "    file_name = 'YellowPagesGarages' + location.replace(' ', '') + '.csv'\n",
    "    \n",
    "    file_path = os.path.join(folder_path, file_name)\n",
    "    \n",
    "    df_location.to_csv(file_path, index=False)\n",
    "    \n",
    "    print(f\"Saved {location} to {file_path}\")\n",
    "    \n",
    "file_path = os.path.join(folder_path, 'YellowPagesGarages.xlsx')\n",
    "\n",
    "with pd.ExcelWriter(file_path, engine='xlsxwriter') as writer:\n",
    "    for location, df_location in location_dfs.items():\n",
    "        sheet_name = 'YellowPagesGarages' + location.replace(' ', '')\n",
    "        df_location.to_excel(writer, sheet_name=sheet_name, index=False)"
   ]
  }
 ],
 "metadata": {
  "kernelspec": {
   "display_name": "cleaner_venv",
   "language": "python",
   "name": "cleaner_venv"
  },
  "language_info": {
   "codemirror_mode": {
    "name": "ipython",
    "version": 3
   },
   "file_extension": ".py",
   "mimetype": "text/x-python",
   "name": "python",
   "nbconvert_exporter": "python",
   "pygments_lexer": "ipython3",
   "version": "3.12.3"
  }
 },
 "nbformat": 4,
 "nbformat_minor": 5
}
